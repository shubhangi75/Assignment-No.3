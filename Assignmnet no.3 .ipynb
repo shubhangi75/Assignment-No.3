{
 "cells": [
  {
   "cell_type": "code",
   "execution_count": 3,
   "id": "f904592d-0154-4443-8443-f6c181bda07d",
   "metadata": {},
   "outputs": [
    {
     "data": {
      "text/plain": [
       "[6, 60, 90, 120]"
      ]
     },
     "execution_count": 3,
     "metadata": {},
     "output_type": "execute_result"
    }
   ],
   "source": [
    "#Q5. Write a python program to filter the numbers in a given list that are divisible by 2 and 3 using the\n",
    "#filter function.\n",
    "#[2, 3, 6, 9, 27, 60, 90, 120, 55, 46]\n",
    "\n",
    "l= [2, 3, 6, 9, 27, 60, 90, 120, 55, 46]\n",
    "list(filter(lambda x: (x % 2 ==0 and x % 3 ==0) ,l))\n"
   ]
  },
  {
   "cell_type": "code",
   "execution_count": 6,
   "id": "54b2c188-7b21-466a-beae-7b043fcfc366",
   "metadata": {},
   "outputs": [
    {
     "data": {
      "text/plain": [
       "['php', 'aba', 'radar', 'level']"
      ]
     },
     "execution_count": 6,
     "metadata": {},
     "output_type": "execute_result"
    }
   ],
   "source": [
    "#Q.6 Write a python program to find palindromes in the given list of strings using lambda and filter\n",
    "#function.\n",
    "#['python', 'php', 'aba', 'radar', 'level']\n",
    "\n",
    "l1= ['python', 'php', 'aba', 'radar', 'level']\n",
    "list(filter(lambda x : x== x[::-1], l1))"
   ]
  },
  {
   "cell_type": "code",
   "execution_count": 6,
   "id": "b90ec66e-840c-497e-8a89-bbe60c5bbf50",
   "metadata": {},
   "outputs": [
    {
     "name": "stdout",
     "output_type": "stream",
     "text": [
      "[1, 2, 3, 4, 5, 6, 7, 8, 9, 10, 11, 12, 13, 14, 15, 16, 17, 18, 19, 20, 21, 22, 23, 24, 25]\n"
     ]
    },
    {
     "data": {
      "text/plain": [
       "15511210043330985984000000"
      ]
     },
     "execution_count": 6,
     "metadata": {},
     "output_type": "execute_result"
    }
   ],
   "source": [
    "#Q.4 Write a python program using reduce function to compute the product of a list containing numbers\n",
    "#from 1 to 25.\n",
    "l=[]\n",
    "for i in range (1,26):\n",
    "    l.append(i)\n",
    "print(l)\n",
    "from functools import reduce\n",
    "reduce(lambda x,y: x*y ,l)"
   ]
  },
  {
   "cell_type": "code",
   "execution_count": 8,
   "id": "2f188cd8-17a4-442b-b007-2e67780cab96",
   "metadata": {},
   "outputs": [
    {
     "data": {
      "text/plain": [
       "[1, 4, 9, 16, 25, 36, 49, 64, 81, 100]"
      ]
     },
     "execution_count": 8,
     "metadata": {},
     "output_type": "execute_result"
    }
   ],
   "source": [
    "#Q2. Write a Python Program to find the squares of all the numbers in the given list of integers using\n",
    "#lambda and map functions.\n",
    "l= [1, 2, 3, 4, 5, 6, 7, 8, 9, 10]\n",
    "list(map(lambda x: x**2, l))"
   ]
  },
  {
   "cell_type": "code",
   "execution_count": 3,
   "id": "981f1dc6-3cf4-481e-9a47-01fe6915aead",
   "metadata": {},
   "outputs": [
    {
     "data": {
      "text/plain": [
       "((1, 2, 3, 4, 5, 6, 7, 8, 9, 10),\n",
       " (1, 2, 3, 4, 5, 6, 7, 8, 9, 10),\n",
       " (1, 2, 3, 4, 5, 6, 7, 8, 9, 10),\n",
       " (1, 2, 3, 4, 5, 6, 7, 8, 9, 10),\n",
       " (1, 2, 3, 4, 5, 6, 7, 8, 9, 10),\n",
       " (1, 2, 3, 4, 5, 6, 7, 8, 9, 10),\n",
       " (1, 2, 3, 4, 5, 6, 7, 8, 9, 10),\n",
       " (1, 2, 3, 4, 5, 6, 7, 8, 9, 10),\n",
       " (1, 2, 3, 4, 5, 6, 7, 8, 9, 10),\n",
       " (1, 2, 3, 4, 5, 6, 7, 8, 9, 10))"
      ]
     },
     "execution_count": 3,
     "metadata": {},
     "output_type": "execute_result"
    }
   ],
   "source": [
    "#Q3. Write a python program to convert the given list of integers into a tuple of strings. Use map and\n",
    "#lambda functions\n",
    "#Given String: [1, 2, 3, 4, 5, 6, 7, 8, 9, 10]\n",
    "#Expected output: ('1', '2', '3', '4', '5', '6', '7', '8', '9', '10')\n",
    "\n",
    "l= [1, 2, 3, 4, 5, 6, 7, 8, 9, 10]\n",
    "tuple(map(lambda x : tuple(l),l))"
   ]
  },
  {
   "cell_type": "code",
   "execution_count": 4,
   "id": "cd914efa-175a-4d05-8195-487aa49fa1d4",
   "metadata": {},
   "outputs": [
    {
     "name": "stdout",
     "output_type": "stream",
     "text": [
      "[('Virat Kohli', 24936), ('Jack Kallis', 25534), ('Ricky Ponting', 27483), ('Sachin Tendulkar', 34357)]\n"
     ]
    }
   ],
   "source": [
    "#Q1. Create a python program to sort the given list of tuples based on integer value using a\n",
    "#lambda function.\n",
    "#[('Sachin Tendulkar', 34357), ('Ricky Ponting', 27483), ('Jack Kallis', 25534), ('Virat Kohli', 24936)]\n",
    "l= [('Sachin Tendulkar', 34357), ('Ricky Ponting', 27483), ('Jack Kallis', 25534), ('Virat Kohli', 24936)]\n",
    "l.sort(key=lambda x: x[1])\n",
    "print(l)"
   ]
  },
  {
   "cell_type": "code",
   "execution_count": null,
   "id": "0d44ae08-a3d0-4bb5-bd35-e5a04ce8f4bb",
   "metadata": {},
   "outputs": [],
   "source": []
  }
 ],
 "metadata": {
  "kernelspec": {
   "display_name": "Python 3 (ipykernel)",
   "language": "python",
   "name": "python3"
  },
  "language_info": {
   "codemirror_mode": {
    "name": "ipython",
    "version": 3
   },
   "file_extension": ".py",
   "mimetype": "text/x-python",
   "name": "python",
   "nbconvert_exporter": "python",
   "pygments_lexer": "ipython3",
   "version": "3.10.8"
  }
 },
 "nbformat": 4,
 "nbformat_minor": 5
}
